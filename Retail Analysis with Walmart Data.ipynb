{
 "cells": [
  {
   "cell_type": "markdown",
   "metadata": {},
   "source": [
    "## Retail Analysis with Walmart Data"
   ]
  },
  {
   "cell_type": "code",
   "execution_count": 735,
   "metadata": {},
   "outputs": [],
   "source": [
    "# import required libraries\n",
    "import pandas as pd\n",
    "import numpy as np \n",
    "from numpy import linspace\n",
    "import matplotlib.pyplot as plt\n",
    "from matplotlib import style\n",
    "import datetime as dt\n",
    "\n",
    "\n",
    "\n",
    "%matplotlib inline \n"
   ]
  },
  {
   "cell_type": "code",
   "execution_count": 736,
   "metadata": {},
   "outputs": [
    {
     "data": {
      "text/html": [
       "<div>\n",
       "<style scoped>\n",
       "    .dataframe tbody tr th:only-of-type {\n",
       "        vertical-align: middle;\n",
       "    }\n",
       "\n",
       "    .dataframe tbody tr th {\n",
       "        vertical-align: top;\n",
       "    }\n",
       "\n",
       "    .dataframe thead th {\n",
       "        text-align: right;\n",
       "    }\n",
       "</style>\n",
       "<table border=\"1\" class=\"dataframe\">\n",
       "  <thead>\n",
       "    <tr style=\"text-align: right;\">\n",
       "      <th></th>\n",
       "      <th>Store</th>\n",
       "      <th>Date</th>\n",
       "      <th>Weekly_Sales</th>\n",
       "      <th>Holiday_Flag</th>\n",
       "      <th>Temperature</th>\n",
       "      <th>Fuel_Price</th>\n",
       "      <th>CPI</th>\n",
       "      <th>Unemployment</th>\n",
       "    </tr>\n",
       "  </thead>\n",
       "  <tbody>\n",
       "    <tr>\n",
       "      <th>0</th>\n",
       "      <td>1</td>\n",
       "      <td>05-02-2010</td>\n",
       "      <td>1643690.90</td>\n",
       "      <td>0</td>\n",
       "      <td>42.31</td>\n",
       "      <td>2.572</td>\n",
       "      <td>211.096358</td>\n",
       "      <td>8.106</td>\n",
       "    </tr>\n",
       "    <tr>\n",
       "      <th>1</th>\n",
       "      <td>1</td>\n",
       "      <td>12-02-2010</td>\n",
       "      <td>1641957.44</td>\n",
       "      <td>1</td>\n",
       "      <td>38.51</td>\n",
       "      <td>2.548</td>\n",
       "      <td>211.242170</td>\n",
       "      <td>8.106</td>\n",
       "    </tr>\n",
       "    <tr>\n",
       "      <th>2</th>\n",
       "      <td>1</td>\n",
       "      <td>19-02-2010</td>\n",
       "      <td>1611968.17</td>\n",
       "      <td>0</td>\n",
       "      <td>39.93</td>\n",
       "      <td>2.514</td>\n",
       "      <td>211.289143</td>\n",
       "      <td>8.106</td>\n",
       "    </tr>\n",
       "    <tr>\n",
       "      <th>3</th>\n",
       "      <td>1</td>\n",
       "      <td>26-02-2010</td>\n",
       "      <td>1409727.59</td>\n",
       "      <td>0</td>\n",
       "      <td>46.63</td>\n",
       "      <td>2.561</td>\n",
       "      <td>211.319643</td>\n",
       "      <td>8.106</td>\n",
       "    </tr>\n",
       "    <tr>\n",
       "      <th>4</th>\n",
       "      <td>1</td>\n",
       "      <td>05-03-2010</td>\n",
       "      <td>1554806.68</td>\n",
       "      <td>0</td>\n",
       "      <td>46.50</td>\n",
       "      <td>2.625</td>\n",
       "      <td>211.350143</td>\n",
       "      <td>8.106</td>\n",
       "    </tr>\n",
       "    <tr>\n",
       "      <th>...</th>\n",
       "      <td>...</td>\n",
       "      <td>...</td>\n",
       "      <td>...</td>\n",
       "      <td>...</td>\n",
       "      <td>...</td>\n",
       "      <td>...</td>\n",
       "      <td>...</td>\n",
       "      <td>...</td>\n",
       "    </tr>\n",
       "    <tr>\n",
       "      <th>6430</th>\n",
       "      <td>45</td>\n",
       "      <td>28-09-2012</td>\n",
       "      <td>713173.95</td>\n",
       "      <td>0</td>\n",
       "      <td>64.88</td>\n",
       "      <td>3.997</td>\n",
       "      <td>192.013558</td>\n",
       "      <td>8.684</td>\n",
       "    </tr>\n",
       "    <tr>\n",
       "      <th>6431</th>\n",
       "      <td>45</td>\n",
       "      <td>05-10-2012</td>\n",
       "      <td>733455.07</td>\n",
       "      <td>0</td>\n",
       "      <td>64.89</td>\n",
       "      <td>3.985</td>\n",
       "      <td>192.170412</td>\n",
       "      <td>8.667</td>\n",
       "    </tr>\n",
       "    <tr>\n",
       "      <th>6432</th>\n",
       "      <td>45</td>\n",
       "      <td>12-10-2012</td>\n",
       "      <td>734464.36</td>\n",
       "      <td>0</td>\n",
       "      <td>54.47</td>\n",
       "      <td>4.000</td>\n",
       "      <td>192.327265</td>\n",
       "      <td>8.667</td>\n",
       "    </tr>\n",
       "    <tr>\n",
       "      <th>6433</th>\n",
       "      <td>45</td>\n",
       "      <td>19-10-2012</td>\n",
       "      <td>718125.53</td>\n",
       "      <td>0</td>\n",
       "      <td>56.47</td>\n",
       "      <td>3.969</td>\n",
       "      <td>192.330854</td>\n",
       "      <td>8.667</td>\n",
       "    </tr>\n",
       "    <tr>\n",
       "      <th>6434</th>\n",
       "      <td>45</td>\n",
       "      <td>26-10-2012</td>\n",
       "      <td>760281.43</td>\n",
       "      <td>0</td>\n",
       "      <td>58.85</td>\n",
       "      <td>3.882</td>\n",
       "      <td>192.308899</td>\n",
       "      <td>8.667</td>\n",
       "    </tr>\n",
       "  </tbody>\n",
       "</table>\n",
       "<p>6435 rows × 8 columns</p>\n",
       "</div>"
      ],
      "text/plain": [
       "      Store        Date  Weekly_Sales  Holiday_Flag  Temperature  Fuel_Price  \\\n",
       "0         1  05-02-2010    1643690.90             0        42.31       2.572   \n",
       "1         1  12-02-2010    1641957.44             1        38.51       2.548   \n",
       "2         1  19-02-2010    1611968.17             0        39.93       2.514   \n",
       "3         1  26-02-2010    1409727.59             0        46.63       2.561   \n",
       "4         1  05-03-2010    1554806.68             0        46.50       2.625   \n",
       "...     ...         ...           ...           ...          ...         ...   \n",
       "6430     45  28-09-2012     713173.95             0        64.88       3.997   \n",
       "6431     45  05-10-2012     733455.07             0        64.89       3.985   \n",
       "6432     45  12-10-2012     734464.36             0        54.47       4.000   \n",
       "6433     45  19-10-2012     718125.53             0        56.47       3.969   \n",
       "6434     45  26-10-2012     760281.43             0        58.85       3.882   \n",
       "\n",
       "             CPI  Unemployment  \n",
       "0     211.096358         8.106  \n",
       "1     211.242170         8.106  \n",
       "2     211.289143         8.106  \n",
       "3     211.319643         8.106  \n",
       "4     211.350143         8.106  \n",
       "...          ...           ...  \n",
       "6430  192.013558         8.684  \n",
       "6431  192.170412         8.667  \n",
       "6432  192.327265         8.667  \n",
       "6433  192.330854         8.667  \n",
       "6434  192.308899         8.667  \n",
       "\n",
       "[6435 rows x 8 columns]"
      ]
     },
     "execution_count": 736,
     "metadata": {},
     "output_type": "execute_result"
    }
   ],
   "source": [
    "# Import dataset \n",
    "sales_df = pd.read_csv('Walmart_Store_sales.csv')\n",
    "sales_df"
   ]
  },
  {
   "cell_type": "code",
   "execution_count": 737,
   "metadata": {},
   "outputs": [
    {
     "name": "stdout",
     "output_type": "stream",
     "text": [
      "<class 'pandas.core.frame.DataFrame'>\n",
      "RangeIndex: 6435 entries, 0 to 6434\n",
      "Data columns (total 8 columns):\n",
      " #   Column        Non-Null Count  Dtype  \n",
      "---  ------        --------------  -----  \n",
      " 0   Store         6435 non-null   int64  \n",
      " 1   Date          6435 non-null   object \n",
      " 2   Weekly_Sales  6435 non-null   float64\n",
      " 3   Holiday_Flag  6435 non-null   int64  \n",
      " 4   Temperature   6435 non-null   float64\n",
      " 5   Fuel_Price    6435 non-null   float64\n",
      " 6   CPI           6435 non-null   float64\n",
      " 7   Unemployment  6435 non-null   float64\n",
      "dtypes: float64(5), int64(2), object(1)\n",
      "memory usage: 402.3+ KB\n"
     ]
    }
   ],
   "source": [
    "sales_df.info()"
   ]
  },
  {
   "cell_type": "code",
   "execution_count": 738,
   "metadata": {},
   "outputs": [
    {
     "data": {
      "text/plain": [
       "count           6435\n",
       "unique           143\n",
       "top       05-02-2010\n",
       "freq              45\n",
       "Name: Date, dtype: object"
      ]
     },
     "execution_count": 738,
     "metadata": {},
     "output_type": "execute_result"
    }
   ],
   "source": [
    "sales_df['Date'].describe()"
   ]
  },
  {
   "cell_type": "markdown",
   "metadata": {},
   "source": [
    "### Part One : Basic Statistics tasks\n",
    "#### (1) Which store has maximum sales"
   ]
  },
  {
   "cell_type": "code",
   "execution_count": 739,
   "metadata": {},
   "outputs": [
    {
     "data": {
      "image/png": "[encoded data removed]",
      "text/plain": [
       "<Figure size 1440x1080 with 1 Axes>"
      ]
     },
     "metadata": {
      "needs_background": "light"
     },
     "output_type": "display_data"
    }
   ],
   "source": [
    "\n",
    "# sum all sales for each store\n",
    "stores_sales = sales_df[['Store', 'Weekly_Sales']].groupby(['Store']).sum([\n",
    "    'Weekly_Sales'])\n",
    "stores_sales.reset_index(inplace=True)\n",
    "\n",
    "# convert dataframe to numpy array\n",
    "X_stores = stores_sales['Store'].to_numpy()\n",
    "Y_sales = stores_sales['Weekly_Sales'].to_numpy()\n",
    "\n",
    "# start drawing histogram to visual data easily\n",
    "plt.figure(figsize=(20, 15))\n",
    "plt.bar(X_stores, Y_sales)\n",
    "plt.xticks(X_stores)\n",
    "plt.yticks(range(0, (Y_sales.max().astype(int)), 20000000))\n",
    "plt.ticklabel_format(useOffset=False, style='plain', axis='y')\n",
    "plt.xlabel('Store')\n",
    "plt.ylabel('Sales')\n",
    "\n",
    "max_sale = Y_sales.max().astype(int)\n",
    "store_with_max_sale = X_stores[Y_sales.argmax()].astype(int)\n",
    "\n",
    "# show the highest\n",
    "plt.annotate(f'Store {store_with_max_sale} has the maximum sales, its total sales = {max_sale}',\n",
    "             xytext=(store_with_max_sale+2,\n",
    "                     max_sale+10000000),\n",
    "             xy=(store_with_max_sale, max_sale),\n",
    "             arrowprops=dict(color='r', shrink=1, lw=1))\n",
    "plt.show()\n"
   ]
  },
  {
   "cell_type": "markdown",
   "metadata": {},
   "source": [
    "#### (2) Which store has maximum standard deviation i.e., the sales vary a lot. Also, find out the coefficient of mean to standard deviation"
   ]
  },
  {
   "cell_type": "code",
   "execution_count": 740,
   "metadata": {},
   "outputs": [
    {
     "name": "stdout",
     "output_type": "stream",
     "text": [
      "Store 14 has the maximum standard deviation the equals 317569.95 $\n",
      "\n"
     ]
    }
   ],
   "source": [
    "# Standard daviation of sales\n",
    "sales_std = sales_df[['Store', 'Weekly_Sales']].groupby('Store').std()\n",
    "sales_std.reset_index(inplace=True)\n",
    "sales_std = sales_std.rename(columns={'Weekly_Sales':'Sales Standard Deviation'})\n",
    "# 1 - Store , 2 - Store slae's standard daviation\n",
    "max_std = [sales_std['Store'][sales_std['Sales Standard Deviation'].argmax()]\n",
    ", float(sales_std['Sales Standard Deviation'].max())]\n",
    "\n",
    "print(f'Store {max_std[0]} has the maximum standard deviation the equals {max_std[1]:.2f} $\\n')\n"
   ]
  },
  {
   "cell_type": "code",
   "execution_count": 741,
   "metadata": {},
   "outputs": [
    {
     "name": "stdout",
     "output_type": "stream",
     "text": [
      "Coefficient of mean to standard deviation is 13.523458876035269\n"
     ]
    }
   ],
   "source": [
    "# coefficient of mean to standard deviation  |  formula = (Standard Deviation / Mean) * 100\n",
    "sales_mean = sales_df[['Store', 'Weekly_Sales']].groupby('Store').mean()\n",
    "sales_mean = sales_mean.rename(columns={'Weekly_Sales':\"Sale's Mean\"})\n",
    "\n",
    "Coef_of_mean_to_std = (sales_std['Sales Standard Deviation'].sum()/sales_mean[\"Sale's Mean\"].sum())*100\n",
    "print(f'Coefficient of mean to standard deviation is {Coef_of_mean_to_std}')"
   ]
  },
  {
   "cell_type": "markdown",
   "metadata": {},
   "source": [
    "#### (3) Which store/s has good quarterly growth rate in Q3’2012"
   ]
  },
  {
   "cell_type": "code",
   "execution_count": 742,
   "metadata": {},
   "outputs": [
    {
     "name": "stderr",
     "output_type": "stream",
     "text": [
      "/var/folders/1l/mm09ww0d21v9yjlsv7h5r3q00000gn/T/ipykernel_98056/1550168256.py:3: SettingWithCopyWarning: \n",
      "A value is trying to be set on a copy of a slice from a DataFrame.\n",
      "Try using .loc[row_indexer,col_indexer] = value instead\n",
      "\n",
      "See the caveats in the documentation: https://pandas.pydata.org/pandas-docs/stable/user_guide/indexing.html#returning-a-view-versus-a-copy\n",
      "  Q3_df['Date'] = pd.to_datetime(Q3_df['Date'])\n"
     ]
    },
    {
     "data": {
      "text/html": [
       "<div>\n",
       "<style scoped>\n",
       "    .dataframe tbody tr th:only-of-type {\n",
       "        vertical-align: middle;\n",
       "    }\n",
       "\n",
       "    .dataframe tbody tr th {\n",
       "        vertical-align: top;\n",
       "    }\n",
       "\n",
       "    .dataframe thead th {\n",
       "        text-align: right;\n",
       "    }\n",
       "</style>\n",
       "<table border=\"1\" class=\"dataframe\">\n",
       "  <thead>\n",
       "    <tr style=\"text-align: right;\">\n",
       "      <th></th>\n",
       "      <th>Store</th>\n",
       "      <th>Weekly_Sales</th>\n",
       "      <th>Date</th>\n",
       "    </tr>\n",
       "  </thead>\n",
       "  <tbody>\n",
       "    <tr>\n",
       "      <th>0</th>\n",
       "      <td>1</td>\n",
       "      <td>1643690.90</td>\n",
       "      <td>2010-05-02</td>\n",
       "    </tr>\n",
       "    <tr>\n",
       "      <th>1</th>\n",
       "      <td>1</td>\n",
       "      <td>1641957.44</td>\n",
       "      <td>2010-12-02</td>\n",
       "    </tr>\n",
       "    <tr>\n",
       "      <th>2</th>\n",
       "      <td>1</td>\n",
       "      <td>1611968.17</td>\n",
       "      <td>2010-02-19</td>\n",
       "    </tr>\n",
       "    <tr>\n",
       "      <th>3</th>\n",
       "      <td>1</td>\n",
       "      <td>1409727.59</td>\n",
       "      <td>2010-02-26</td>\n",
       "    </tr>\n",
       "    <tr>\n",
       "      <th>4</th>\n",
       "      <td>1</td>\n",
       "      <td>1554806.68</td>\n",
       "      <td>2010-05-03</td>\n",
       "    </tr>\n",
       "    <tr>\n",
       "      <th>...</th>\n",
       "      <td>...</td>\n",
       "      <td>...</td>\n",
       "      <td>...</td>\n",
       "    </tr>\n",
       "    <tr>\n",
       "      <th>6430</th>\n",
       "      <td>45</td>\n",
       "      <td>713173.95</td>\n",
       "      <td>2012-09-28</td>\n",
       "    </tr>\n",
       "    <tr>\n",
       "      <th>6431</th>\n",
       "      <td>45</td>\n",
       "      <td>733455.07</td>\n",
       "      <td>2012-05-10</td>\n",
       "    </tr>\n",
       "    <tr>\n",
       "      <th>6432</th>\n",
       "      <td>45</td>\n",
       "      <td>734464.36</td>\n",
       "      <td>2012-12-10</td>\n",
       "    </tr>\n",
       "    <tr>\n",
       "      <th>6433</th>\n",
       "      <td>45</td>\n",
       "      <td>718125.53</td>\n",
       "      <td>2012-10-19</td>\n",
       "    </tr>\n",
       "    <tr>\n",
       "      <th>6434</th>\n",
       "      <td>45</td>\n",
       "      <td>760281.43</td>\n",
       "      <td>2012-10-26</td>\n",
       "    </tr>\n",
       "  </tbody>\n",
       "</table>\n",
       "<p>6435 rows × 3 columns</p>\n",
       "</div>"
      ],
      "text/plain": [
       "      Store  Weekly_Sales       Date\n",
       "0         1    1643690.90 2010-05-02\n",
       "1         1    1641957.44 2010-12-02\n",
       "2         1    1611968.17 2010-02-19\n",
       "3         1    1409727.59 2010-02-26\n",
       "4         1    1554806.68 2010-05-03\n",
       "...     ...           ...        ...\n",
       "6430     45     713173.95 2012-09-28\n",
       "6431     45     733455.07 2012-05-10\n",
       "6432     45     734464.36 2012-12-10\n",
       "6433     45     718125.53 2012-10-19\n",
       "6434     45     760281.43 2012-10-26\n",
       "\n",
       "[6435 rows x 3 columns]"
      ]
     },
     "execution_count": 742,
     "metadata": {},
     "output_type": "execute_result"
    }
   ],
   "source": [
    "# Create dataframe for Q3'2012, from date 01-07-2012 to date 30-09-2012\n",
    "Q3_df = sales_df[['Store','Weekly_Sales','Date']]\n",
    "Q3_df['Date'] = pd.to_datetime(Q3_df['Date'])\n",
    "Q3_df"
   ]
  },
  {
   "cell_type": "code",
   "execution_count": 743,
   "metadata": {},
   "outputs": [
    {
     "name": "stdout",
     "output_type": "stream",
     "text": [
      "Store 4 has good quartly growth in Q3'2012 with 25652119.35 $\n"
     ]
    }
   ],
   "source": [
    "Q3_df = Q3_df.loc[(Q3_df['Date'] >= pd.to_datetime(\"2012-07-01\")) & (Q3_df['Date'] <= pd.to_datetime(\"2012-09-30\"))]\n",
    "Q3_df = Q3_df.groupby(['Store']).sum()['Weekly_Sales']\n",
    "print(f\"Store {Q3_df.idxmax()} has good quartly growth in Q3'2012 with {Q3_df.max()} $\")"
   ]
  },
  {
   "cell_type": "markdown",
   "metadata": {},
   "source": [
    "#### (4) Some holidays have a negative impact on sales. Find out holidays which have higher sales than the mean sales in non-holiday season for all stores together"
   ]
  },
  {
   "cell_type": "code",
   "execution_count": 744,
   "metadata": {},
   "outputs": [
    {
     "name": "stderr",
     "output_type": "stream",
     "text": [
      "/var/folders/1l/mm09ww0d21v9yjlsv7h5r3q00000gn/T/ipykernel_98056/3478954610.py:1: FutureWarning: Dropping of nuisance columns in DataFrame reductions (with 'numeric_only=None') is deprecated; in a future version this will raise TypeError.  Select only valid columns before calling the reduction.\n",
      "  non_Holidays_Mean_Sales = sales_df.loc[(sales_df['Holiday_Flag']==0)].mean()['Weekly_Sales']\n"
     ]
    },
    {
     "data": {
      "text/plain": [
       "1041256.3802088564"
      ]
     },
     "execution_count": 744,
     "metadata": {},
     "output_type": "execute_result"
    }
   ],
   "source": [
    "non_Holidays_Mean_Sales = sales_df.loc[(sales_df['Holiday_Flag']==0)].mean()['Weekly_Sales']\n",
    "non_Holidays_Mean_Sales"
   ]
  },
  {
   "cell_type": "code",
   "execution_count": 745,
   "metadata": {},
   "outputs": [
    {
     "name": "stdout",
     "output_type": "stream",
     "text": [
      "Holidays that have sales higher than mean sales of non-Holidaya is Date\n",
      "07-09-2012    True\n",
      "09-09-2011    True\n",
      "10-02-2012    True\n",
      "10-09-2010    True\n",
      "11-02-2011    True\n",
      "12-02-2010    True\n",
      "25-11-2011    True\n",
      "26-11-2010    True\n",
      "30-12-2011    True\n",
      "31-12-2010    True\n",
      "Name: Weekly_Sales, dtype: bool\n"
     ]
    }
   ],
   "source": [
    "Holidays_sales = sales_df[['Weekly_Sales','Date']].loc[(sales_df['Holiday_Flag']==1)].groupby('Date').sum()['Weekly_Sales']\n",
    "print(f'Holidays that have sales higher than mean sales of non-Holidaya is {Holidays_sales>non_Holidays_Mean_Sales}')"
   ]
  },
  {
   "cell_type": "markdown",
   "metadata": {},
   "source": [
    "#### (5) Provide a monthly and semester view of sales in units and give insights"
   ]
  },
  {
   "cell_type": "code",
   "execution_count": 746,
   "metadata": {},
   "outputs": [
    {
     "data": {
      "image/png": "[encoded data removed]",
      "text/plain": [
       "<Figure size 864x720 with 1 Axes>"
      ]
     },
     "metadata": {
      "needs_background": "light"
     },
     "output_type": "display_data"
    }
   ],
   "source": [
    "# Monthly Sales for each year\n",
    "\n",
    "sales_df['Date'] = pd.to_datetime(sales_df['Date'])\n",
    "# 2010\n",
    "sales_2010 = sales_df[ (sales_df['Date'].dt.year == 2010) ]\n",
    "monthly_2010 = sales_2010.groupby(sales_2010['Date'].dt.month).sum()['Weekly_Sales']\n",
    "# Satrt draw the graph\n",
    "plt.figure(figsize=(12, 10))\n",
    "plt.ticklabel_format(useOffset=False, style='plain', axis='y')\n",
    "plt.plot(sales_2010['Date'].dt.month, sales_2010, 'o')\n",
    "plt.xticks(sales_2010['Date'].dt.month)\n",
    "plt.title('Monthly Store\\'s Sales in 2010 ')\n",
    "plt.xlabel('Months')\n",
    "plt.ylabel('Sales')\n",
    "plt.show()\n"
   ]
  },
  {
   "cell_type": "code",
   "execution_count": 747,
   "metadata": {},
   "outputs": [
    {
     "data": {
      "image/png": "[encoded data removed]",
      "text/plain": [
       "<Figure size 864x720 with 1 Axes>"
      ]
     },
     "metadata": {
      "needs_background": "light"
     },
     "output_type": "display_data"
    }
   ],
   "source": [
    "# 2011\n",
    "sales_2011 = sales_df[ (sales_df['Date'].dt.year == 2011) ]\n",
    "monthly_2012 = sales_2011.groupby(sales_2011['Date'].dt.month).sum()['Weekly_Sales']\n",
    "# Satrt draw the graph\n",
    "plt.figure(figsize=(12, 10))\n",
    "plt.ticklabel_format(useOffset=False, style='plain', axis='y')\n",
    "plt.plot(sales_2011['Date'].dt.month, sales_2011, 'o')\n",
    "plt.xticks(sales_2011['Date'].dt.month)\n",
    "plt.title('Monthly Store\\'s Sales in 2011 ')\n",
    "plt.xlabel('Months')\n",
    "plt.ylabel('Sales')\n",
    "plt.show()"
   ]
  },
  {
   "cell_type": "code",
   "execution_count": 748,
   "metadata": {},
   "outputs": [
    {
     "data": {
      "image/png": "[encoded data removed]",
      "text/plain": [
       "<Figure size 864x720 with 1 Axes>"
      ]
     },
     "metadata": {
      "needs_background": "light"
     },
     "output_type": "display_data"
    }
   ],
   "source": [
    "# 2012\n",
    "sales_2012 = sales_df[ (sales_df['Date'].dt.year == 2012) ]\n",
    "monthly_2012 = sales_2012.groupby(sales_2012['Date'].dt.month).sum()['Weekly_Sales']\n",
    "# Satrt draw the graph\n",
    "plt.figure(figsize=(12, 10))\n",
    "plt.ticklabel_format(useOffset=False, style='plain', axis='y')\n",
    "plt.plot(sales_2012['Date'].dt.month, sales_2012, 'o')\n",
    "plt.xticks(sales_2012['Date'].dt.month)\n",
    "plt.title('Monthly Store\\'s Sales in 2012 ')\n",
    "plt.xlabel('Months')\n",
    "plt.ylabel('Sales')\n",
    "plt.show()\n"
   ]
  },
  {
   "cell_type": "code",
   "execution_count": 749,
   "metadata": {},
   "outputs": [
    {
     "data": {
      "image/png": "[encoded data removed]",
      "text/plain": [
       "<Figure size 648x504 with 1 Axes>"
      ]
     },
     "metadata": {
      "needs_background": "light"
     },
     "output_type": "display_data"
    }
   ],
   "source": [
    "# Compare for all years by semester - '6-months'\n",
    "semesters_2010 = (sales_2010.resample('6M', on='Date').sum()['Weekly_Sales']).reset_index().drop(2)\n",
    "semesters_2011 = (sales_2011.resample('6M', on='Date').sum()['Weekly_Sales']).reset_index().drop(2)\n",
    "semesters_2012 = (sales_2012.resample('6M', on='Date').sum()['Weekly_Sales']).reset_index().drop(2)\n",
    "\n",
    "SemestersLabels = pd.Series(['First Semester','Second Semester'])\n",
    "x = np.arange(len(SemestersLabels))\n",
    "\n",
    "width = 0.1\n",
    "\n",
    "fig, ax = plt.subplots(figsize=(9, 7))\n",
    "\n",
    "ax.bar(x - 3*width/2, semesters_2010['Weekly_Sales'], width, label='2010', color='b')\n",
    "ax.bar(x - width/2, semesters_2011['Weekly_Sales'], width, label='2011', color='r')\n",
    "ax.bar(x + width/2, semesters_2012['Weekly_Sales'], width, label='2012', color='yellow')\n",
    "ax.set_xticks(x)\n",
    "ax.set_xticklabels(tuple(SemestersLabels))\n",
    "plt.ticklabel_format(useOffset=False, style='plain', axis='y')\n",
    "plt.title('Semesters Sales')\n",
    "plt.xlabel('Semester')\n",
    "plt.ylabel('Total Sales')\n",
    "ax.legend()\n",
    "plt.show()"
   ]
  },
  {
   "cell_type": "markdown",
   "metadata": {},
   "source": [
    "## Part Two : Statistical Model\n",
    "### (1) For Store 1 – Build  prediction models to forecast demand\n",
    "##### - Linear Regression – Utilize variables like date and restructure dates as 1 for 5 Feb 2010 (starting from the earliest date in order). Hypothesize if CPI, unemployment, and fuel price have any impact on sales.\n"
   ]
  },
  {
   "cell_type": "code",
   "execution_count": 756,
   "metadata": {},
   "outputs": [
    {
     "name": "stdout",
     "output_type": "stream",
     "text": [
      "Intercept = [-4477426.70754994] \n",
      "Coefficient = 1\n",
      "Mean Squared Error = Weekly_Sales    1.758705e+10\n",
      "dtype: float64\n",
      "Variance Score = -0.005470324917370206\n",
      "Mean Squared Error = 132616.19021713\n"
     ]
    }
   ],
   "source": [
    "\n",
    "from sklearn.model_selection import train_test_split\n",
    "from sklearn.linear_model import LinearRegression\n",
    "\n",
    "X = sales_df[['CPI','Unemployment','Fuel_Price']].loc[ (sales_df['Store']==1) ]\n",
    "Y = sales_df[['Weekly_Sales']].loc[ (sales_df['Store']==1) ]\n",
    "\n",
    "# Split data\n",
    "X_train, X_test, Y_train, Y_test = train_test_split(X, Y)\n",
    "\n",
    "# train model\n",
    "LinReg = LinearRegression()\n",
    "LinReg.fit(X_train, Y_train)\n",
    "\n",
    "print(f'Intercept = {LinReg.intercept_} \\nCoefficient = {len(LinReg.coef_)}')\n",
    "\n",
    "print(f'Mean Squared Error = {np.mean((LinReg.predict(X_test)-Y_test)**2)}'\n",
    "      + f'\\nVariance Score = {LinReg.score(X_test,Y_test)}')\n",
    "      \n",
    "# claculate MSE using sklearn library\n",
    "from sklearn import metrics\n",
    "print(f'Mean Squared Error = {np.sqrt(metrics.mean_squared_error(LinReg.predict(X_test),Y_test))}')\n"
   ]
  },
  {
   "cell_type": "markdown",
   "metadata": {},
   "source": [
    "#### - Change dates into days by creating new variable.\n"
   ]
  },
  {
   "cell_type": "code",
   "execution_count": 751,
   "metadata": {},
   "outputs": [
    {
     "data": {
      "text/html": [
       "<div>\n",
       "<style scoped>\n",
       "    .dataframe tbody tr th:only-of-type {\n",
       "        vertical-align: middle;\n",
       "    }\n",
       "\n",
       "    .dataframe tbody tr th {\n",
       "        vertical-align: top;\n",
       "    }\n",
       "\n",
       "    .dataframe thead th {\n",
       "        text-align: right;\n",
       "    }\n",
       "</style>\n",
       "<table border=\"1\" class=\"dataframe\">\n",
       "  <thead>\n",
       "    <tr style=\"text-align: right;\">\n",
       "      <th></th>\n",
       "      <th>Store</th>\n",
       "      <th>Date</th>\n",
       "      <th>Weekly_Sales</th>\n",
       "      <th>Holiday_Flag</th>\n",
       "      <th>Temperature</th>\n",
       "      <th>Fuel_Price</th>\n",
       "      <th>CPI</th>\n",
       "      <th>Unemployment</th>\n",
       "      <th>Day</th>\n",
       "    </tr>\n",
       "  </thead>\n",
       "  <tbody>\n",
       "    <tr>\n",
       "      <th>0</th>\n",
       "      <td>1</td>\n",
       "      <td>2010-05-02</td>\n",
       "      <td>1643690.90</td>\n",
       "      <td>0</td>\n",
       "      <td>42.31</td>\n",
       "      <td>2.572</td>\n",
       "      <td>211.096358</td>\n",
       "      <td>8.106</td>\n",
       "      <td>Sunday</td>\n",
       "    </tr>\n",
       "    <tr>\n",
       "      <th>1</th>\n",
       "      <td>1</td>\n",
       "      <td>2010-12-02</td>\n",
       "      <td>1641957.44</td>\n",
       "      <td>1</td>\n",
       "      <td>38.51</td>\n",
       "      <td>2.548</td>\n",
       "      <td>211.242170</td>\n",
       "      <td>8.106</td>\n",
       "      <td>Thursday</td>\n",
       "    </tr>\n",
       "    <tr>\n",
       "      <th>2</th>\n",
       "      <td>1</td>\n",
       "      <td>2010-02-19</td>\n",
       "      <td>1611968.17</td>\n",
       "      <td>0</td>\n",
       "      <td>39.93</td>\n",
       "      <td>2.514</td>\n",
       "      <td>211.289143</td>\n",
       "      <td>8.106</td>\n",
       "      <td>Friday</td>\n",
       "    </tr>\n",
       "    <tr>\n",
       "      <th>3</th>\n",
       "      <td>1</td>\n",
       "      <td>2010-02-26</td>\n",
       "      <td>1409727.59</td>\n",
       "      <td>0</td>\n",
       "      <td>46.63</td>\n",
       "      <td>2.561</td>\n",
       "      <td>211.319643</td>\n",
       "      <td>8.106</td>\n",
       "      <td>Friday</td>\n",
       "    </tr>\n",
       "    <tr>\n",
       "      <th>4</th>\n",
       "      <td>1</td>\n",
       "      <td>2010-05-03</td>\n",
       "      <td>1554806.68</td>\n",
       "      <td>0</td>\n",
       "      <td>46.50</td>\n",
       "      <td>2.625</td>\n",
       "      <td>211.350143</td>\n",
       "      <td>8.106</td>\n",
       "      <td>Monday</td>\n",
       "    </tr>\n",
       "    <tr>\n",
       "      <th>...</th>\n",
       "      <td>...</td>\n",
       "      <td>...</td>\n",
       "      <td>...</td>\n",
       "      <td>...</td>\n",
       "      <td>...</td>\n",
       "      <td>...</td>\n",
       "      <td>...</td>\n",
       "      <td>...</td>\n",
       "      <td>...</td>\n",
       "    </tr>\n",
       "    <tr>\n",
       "      <th>6430</th>\n",
       "      <td>45</td>\n",
       "      <td>2012-09-28</td>\n",
       "      <td>713173.95</td>\n",
       "      <td>0</td>\n",
       "      <td>64.88</td>\n",
       "      <td>3.997</td>\n",
       "      <td>192.013558</td>\n",
       "      <td>8.684</td>\n",
       "      <td>Friday</td>\n",
       "    </tr>\n",
       "    <tr>\n",
       "      <th>6431</th>\n",
       "      <td>45</td>\n",
       "      <td>2012-05-10</td>\n",
       "      <td>733455.07</td>\n",
       "      <td>0</td>\n",
       "      <td>64.89</td>\n",
       "      <td>3.985</td>\n",
       "      <td>192.170412</td>\n",
       "      <td>8.667</td>\n",
       "      <td>Thursday</td>\n",
       "    </tr>\n",
       "    <tr>\n",
       "      <th>6432</th>\n",
       "      <td>45</td>\n",
       "      <td>2012-12-10</td>\n",
       "      <td>734464.36</td>\n",
       "      <td>0</td>\n",
       "      <td>54.47</td>\n",
       "      <td>4.000</td>\n",
       "      <td>192.327265</td>\n",
       "      <td>8.667</td>\n",
       "      <td>Monday</td>\n",
       "    </tr>\n",
       "    <tr>\n",
       "      <th>6433</th>\n",
       "      <td>45</td>\n",
       "      <td>2012-10-19</td>\n",
       "      <td>718125.53</td>\n",
       "      <td>0</td>\n",
       "      <td>56.47</td>\n",
       "      <td>3.969</td>\n",
       "      <td>192.330854</td>\n",
       "      <td>8.667</td>\n",
       "      <td>Friday</td>\n",
       "    </tr>\n",
       "    <tr>\n",
       "      <th>6434</th>\n",
       "      <td>45</td>\n",
       "      <td>2012-10-26</td>\n",
       "      <td>760281.43</td>\n",
       "      <td>0</td>\n",
       "      <td>58.85</td>\n",
       "      <td>3.882</td>\n",
       "      <td>192.308899</td>\n",
       "      <td>8.667</td>\n",
       "      <td>Friday</td>\n",
       "    </tr>\n",
       "  </tbody>\n",
       "</table>\n",
       "<p>6435 rows × 9 columns</p>\n",
       "</div>"
      ],
      "text/plain": [
       "      Store       Date  Weekly_Sales  Holiday_Flag  Temperature  Fuel_Price  \\\n",
       "0         1 2010-05-02    1643690.90             0        42.31       2.572   \n",
       "1         1 2010-12-02    1641957.44             1        38.51       2.548   \n",
       "2         1 2010-02-19    1611968.17             0        39.93       2.514   \n",
       "3         1 2010-02-26    1409727.59             0        46.63       2.561   \n",
       "4         1 2010-05-03    1554806.68             0        46.50       2.625   \n",
       "...     ...        ...           ...           ...          ...         ...   \n",
       "6430     45 2012-09-28     713173.95             0        64.88       3.997   \n",
       "6431     45 2012-05-10     733455.07             0        64.89       3.985   \n",
       "6432     45 2012-12-10     734464.36             0        54.47       4.000   \n",
       "6433     45 2012-10-19     718125.53             0        56.47       3.969   \n",
       "6434     45 2012-10-26     760281.43             0        58.85       3.882   \n",
       "\n",
       "             CPI  Unemployment       Day  \n",
       "0     211.096358         8.106    Sunday  \n",
       "1     211.242170         8.106  Thursday  \n",
       "2     211.289143         8.106    Friday  \n",
       "3     211.319643         8.106    Friday  \n",
       "4     211.350143         8.106    Monday  \n",
       "...          ...           ...       ...  \n",
       "6430  192.013558         8.684    Friday  \n",
       "6431  192.170412         8.667  Thursday  \n",
       "6432  192.327265         8.667    Monday  \n",
       "6433  192.330854         8.667    Friday  \n",
       "6434  192.308899         8.667    Friday  \n",
       "\n",
       "[6435 rows x 9 columns]"
      ]
     },
     "execution_count": 751,
     "metadata": {},
     "output_type": "execute_result"
    }
   ],
   "source": [
    "sales_df['Day'] = pd.to_datetime(sales_df['Date']).dt.day_name()\n",
    "sales_df"
   ]
  }
 ],
 "metadata": {
  "interpreter": {
   "hash": "a3aec7bcf588f13ab93d24e94472ced6950b6803fa641dd17d672b573bccb85c"
  },
  "kernelspec": {
   "display_name": "Python 3.9.7 ('base')",
   "language": "python",
   "name": "python3"
  },
  "language_info": {
   "codemirror_mode": {
    "name": "ipython",
    "version": 3
   },
   "file_extension": ".py",
   "mimetype": "text/x-python",
   "name": "python",
   "nbconvert_exporter": "python",
   "pygments_lexer": "ipython3",
   "version": "3.9.7"
  },
  "orig_nbformat": 4
 },
 "nbformat": 4,
 "nbformat_minor": 2
}
